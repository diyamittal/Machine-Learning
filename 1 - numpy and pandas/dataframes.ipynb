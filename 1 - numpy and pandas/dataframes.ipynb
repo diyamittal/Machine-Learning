{
 "cells": [
  {
   "cell_type": "code",
   "execution_count": 3,
   "id": "8233e6e7",
   "metadata": {},
   "outputs": [],
   "source": [
    "import numpy as np\n",
    "import pandas as pd"
   ]
  },
  {
   "cell_type": "code",
   "execution_count": 5,
   "id": "5719d798",
   "metadata": {},
   "outputs": [],
   "source": [
    "np.random.seed(101)\n",
    "mydata = np.random.randint(0, 101, (4,3))"
   ]
  },
  {
   "cell_type": "code",
   "execution_count": 6,
   "id": "446c490e",
   "metadata": {},
   "outputs": [
    {
     "data": {
      "text/plain": [
       "array([[95, 11, 81],\n",
       "       [70, 63, 87],\n",
       "       [75,  9, 77],\n",
       "       [40,  4, 63]])"
      ]
     },
     "execution_count": 6,
     "metadata": {},
     "output_type": "execute_result"
    }
   ],
   "source": [
    "mydata"
   ]
  },
  {
   "cell_type": "code",
   "execution_count": 7,
   "id": "f8c1d422",
   "metadata": {},
   "outputs": [],
   "source": [
    "myindex = ['CA', 'NY', 'AZ', 'TX']"
   ]
  },
  {
   "cell_type": "code",
   "execution_count": 8,
   "id": "3adb4da7",
   "metadata": {},
   "outputs": [],
   "source": [
    "mycolumns = ['Jan', 'Feb', 'Mar']"
   ]
  },
  {
   "cell_type": "code",
   "execution_count": 9,
   "id": "1b5f4cca",
   "metadata": {},
   "outputs": [],
   "source": [
    "df = pd.DataFrame(mydata)"
   ]
  },
  {
   "cell_type": "code",
   "execution_count": 10,
   "id": "04cee283",
   "metadata": {},
   "outputs": [
    {
     "data": {
      "text/html": [
       "<div>\n",
       "<style scoped>\n",
       "    .dataframe tbody tr th:only-of-type {\n",
       "        vertical-align: middle;\n",
       "    }\n",
       "\n",
       "    .dataframe tbody tr th {\n",
       "        vertical-align: top;\n",
       "    }\n",
       "\n",
       "    .dataframe thead th {\n",
       "        text-align: right;\n",
       "    }\n",
       "</style>\n",
       "<table border=\"1\" class=\"dataframe\">\n",
       "  <thead>\n",
       "    <tr style=\"text-align: right;\">\n",
       "      <th></th>\n",
       "      <th>0</th>\n",
       "      <th>1</th>\n",
       "      <th>2</th>\n",
       "    </tr>\n",
       "  </thead>\n",
       "  <tbody>\n",
       "    <tr>\n",
       "      <th>0</th>\n",
       "      <td>95</td>\n",
       "      <td>11</td>\n",
       "      <td>81</td>\n",
       "    </tr>\n",
       "    <tr>\n",
       "      <th>1</th>\n",
       "      <td>70</td>\n",
       "      <td>63</td>\n",
       "      <td>87</td>\n",
       "    </tr>\n",
       "    <tr>\n",
       "      <th>2</th>\n",
       "      <td>75</td>\n",
       "      <td>9</td>\n",
       "      <td>77</td>\n",
       "    </tr>\n",
       "    <tr>\n",
       "      <th>3</th>\n",
       "      <td>40</td>\n",
       "      <td>4</td>\n",
       "      <td>63</td>\n",
       "    </tr>\n",
       "  </tbody>\n",
       "</table>\n",
       "</div>"
      ],
      "text/plain": [
       "    0   1   2\n",
       "0  95  11  81\n",
       "1  70  63  87\n",
       "2  75   9  77\n",
       "3  40   4  63"
      ]
     },
     "execution_count": 10,
     "metadata": {},
     "output_type": "execute_result"
    }
   ],
   "source": [
    "df"
   ]
  },
  {
   "cell_type": "code",
   "execution_count": 11,
   "id": "e8bcadef",
   "metadata": {},
   "outputs": [],
   "source": [
    "df = pd.DataFrame(data=mydata, index=myindex)"
   ]
  },
  {
   "cell_type": "code",
   "execution_count": 12,
   "id": "f14109ce",
   "metadata": {},
   "outputs": [
    {
     "data": {
      "text/html": [
       "<div>\n",
       "<style scoped>\n",
       "    .dataframe tbody tr th:only-of-type {\n",
       "        vertical-align: middle;\n",
       "    }\n",
       "\n",
       "    .dataframe tbody tr th {\n",
       "        vertical-align: top;\n",
       "    }\n",
       "\n",
       "    .dataframe thead th {\n",
       "        text-align: right;\n",
       "    }\n",
       "</style>\n",
       "<table border=\"1\" class=\"dataframe\">\n",
       "  <thead>\n",
       "    <tr style=\"text-align: right;\">\n",
       "      <th></th>\n",
       "      <th>0</th>\n",
       "      <th>1</th>\n",
       "      <th>2</th>\n",
       "    </tr>\n",
       "  </thead>\n",
       "  <tbody>\n",
       "    <tr>\n",
       "      <th>CA</th>\n",
       "      <td>95</td>\n",
       "      <td>11</td>\n",
       "      <td>81</td>\n",
       "    </tr>\n",
       "    <tr>\n",
       "      <th>NY</th>\n",
       "      <td>70</td>\n",
       "      <td>63</td>\n",
       "      <td>87</td>\n",
       "    </tr>\n",
       "    <tr>\n",
       "      <th>AZ</th>\n",
       "      <td>75</td>\n",
       "      <td>9</td>\n",
       "      <td>77</td>\n",
       "    </tr>\n",
       "    <tr>\n",
       "      <th>TX</th>\n",
       "      <td>40</td>\n",
       "      <td>4</td>\n",
       "      <td>63</td>\n",
       "    </tr>\n",
       "  </tbody>\n",
       "</table>\n",
       "</div>"
      ],
      "text/plain": [
       "     0   1   2\n",
       "CA  95  11  81\n",
       "NY  70  63  87\n",
       "AZ  75   9  77\n",
       "TX  40   4  63"
      ]
     },
     "execution_count": 12,
     "metadata": {},
     "output_type": "execute_result"
    }
   ],
   "source": [
    "df"
   ]
  },
  {
   "cell_type": "code",
   "execution_count": 13,
   "id": "005a2724",
   "metadata": {},
   "outputs": [],
   "source": [
    "df = pd.DataFrame(data=mydata, index=myindex, columns=mycolumns)"
   ]
  },
  {
   "cell_type": "code",
   "execution_count": 14,
   "id": "6c20cf40",
   "metadata": {},
   "outputs": [
    {
     "data": {
      "text/html": [
       "<div>\n",
       "<style scoped>\n",
       "    .dataframe tbody tr th:only-of-type {\n",
       "        vertical-align: middle;\n",
       "    }\n",
       "\n",
       "    .dataframe tbody tr th {\n",
       "        vertical-align: top;\n",
       "    }\n",
       "\n",
       "    .dataframe thead th {\n",
       "        text-align: right;\n",
       "    }\n",
       "</style>\n",
       "<table border=\"1\" class=\"dataframe\">\n",
       "  <thead>\n",
       "    <tr style=\"text-align: right;\">\n",
       "      <th></th>\n",
       "      <th>Jan</th>\n",
       "      <th>Feb</th>\n",
       "      <th>Mar</th>\n",
       "    </tr>\n",
       "  </thead>\n",
       "  <tbody>\n",
       "    <tr>\n",
       "      <th>CA</th>\n",
       "      <td>95</td>\n",
       "      <td>11</td>\n",
       "      <td>81</td>\n",
       "    </tr>\n",
       "    <tr>\n",
       "      <th>NY</th>\n",
       "      <td>70</td>\n",
       "      <td>63</td>\n",
       "      <td>87</td>\n",
       "    </tr>\n",
       "    <tr>\n",
       "      <th>AZ</th>\n",
       "      <td>75</td>\n",
       "      <td>9</td>\n",
       "      <td>77</td>\n",
       "    </tr>\n",
       "    <tr>\n",
       "      <th>TX</th>\n",
       "      <td>40</td>\n",
       "      <td>4</td>\n",
       "      <td>63</td>\n",
       "    </tr>\n",
       "  </tbody>\n",
       "</table>\n",
       "</div>"
      ],
      "text/plain": [
       "    Jan  Feb  Mar\n",
       "CA   95   11   81\n",
       "NY   70   63   87\n",
       "AZ   75    9   77\n",
       "TX   40    4   63"
      ]
     },
     "execution_count": 14,
     "metadata": {},
     "output_type": "execute_result"
    }
   ],
   "source": [
    "df"
   ]
  },
  {
   "cell_type": "code",
   "execution_count": 15,
   "id": "ea20684d",
   "metadata": {},
   "outputs": [
    {
     "name": "stdout",
     "output_type": "stream",
     "text": [
      "<class 'pandas.core.frame.DataFrame'>\n",
      "Index: 4 entries, CA to TX\n",
      "Data columns (total 3 columns):\n",
      " #   Column  Non-Null Count  Dtype\n",
      "---  ------  --------------  -----\n",
      " 0   Jan     4 non-null      int32\n",
      " 1   Feb     4 non-null      int32\n",
      " 2   Mar     4 non-null      int32\n",
      "dtypes: int32(3)\n",
      "memory usage: 80.0+ bytes\n"
     ]
    }
   ],
   "source": [
    "df.info()"
   ]
  },
  {
   "cell_type": "code",
   "execution_count": 16,
   "id": "5e0ba064",
   "metadata": {},
   "outputs": [
    {
     "data": {
      "text/plain": [
       "'C:\\\\Users\\\\HP'"
      ]
     },
     "execution_count": 16,
     "metadata": {},
     "output_type": "execute_result"
    }
   ],
   "source": [
    "pwd"
   ]
  },
  {
   "cell_type": "code",
   "execution_count": 17,
   "id": "6554d7f5",
   "metadata": {},
   "outputs": [
    {
     "name": "stdout",
     "output_type": "stream",
     "text": [
      " Volume in drive C is Windows\n",
      " Volume Serial Number is AC7E-C806\n",
      "\n",
      " Directory of C:\\Users\\HP\n",
      "\n",
      "03-09-2023  12:12    <DIR>          .\n",
      "21-07-2023  00:17    <DIR>          ..\n",
      "09-07-2023  23:06    <DIR>          .android\n",
      "17-04-2023  21:12               470 .bash_history\n",
      "03-09-2023  12:13    <DIR>          .conda\n",
      "03-09-2023  10:20                25 .condarc\n",
      "12-04-2023  09:32    <DIR>          .config\n",
      "01-09-2023  00:26    <DIR>          .continuum\n",
      "17-04-2023  20:45                53 .gitconfig\n",
      "09-07-2023  22:55    <DIR>          .gradle\n",
      "03-09-2023  11:49    <DIR>          .ipynb_checkpoints\n",
      "01-09-2023  00:41    <DIR>          .ipython\n",
      "01-09-2023  01:04    <DIR>          .jupyter\n",
      "09-07-2023  22:58    <DIR>          .m2\n",
      "05-03-2023  22:35    <DIR>          .ms-ad\n",
      "06-08-2023  19:59                74 .node_repl_history\n",
      "06-08-2023  19:42    <DIR>          .rest-client\n",
      "17-04-2023  21:10    <DIR>          .ssh\n",
      "17-06-2023  11:16    <DIR>          .vscode\n",
      "01-09-2023  00:27    <DIR>          anaconda3\n",
      "09-07-2023  22:52    <DIR>          AndroidStudioProjects\n",
      "23-08-2023  22:30    <DIR>          app\n",
      "17-06-2023  11:19    <DIR>          clone_website\n",
      "03-09-2023  12:12             9,003 dataframes.ipynb\n",
      "17-06-2023  11:22    <DIR>          DeliveryRouteFinder\n",
      "01-09-2023  00:13    <DIR>          Downloads\n",
      "05-04-2023  22:21    <DIR>          DS-Project\n",
      "17-06-2023  11:17    <DIR>          DS-Project-1\n",
      "04-04-2023  22:59    <DIR>          DSW_Project\n",
      "14-05-2023  13:08    <DIR>          Favorites\n",
      "26-07-2023  19:56    <DIR>          Hackathon_Project\n",
      "07-04-2023  23:59    <DIR>          Mobikart-Mobile-E-Commerce-Website\n",
      "07-04-2023  23:52    <DIR>          mobile-shop-backend\n",
      "06-03-2023  10:25    <DIR>          Music\n",
      "02-09-2023  12:53            35,074 numpy.ipynb\n",
      "03-09-2023  08:32    <DIR>          OneDrive\n",
      "08-04-2023  00:02    <DIR>          Online-Mobile-Shopping-\n",
      "08-04-2023  00:05    <DIR>          online-shopping\n",
      "03-09-2023  11:00             9,272 pandas series.ipynb\n",
      "04-04-2023  22:54    <DIR>          portfolio\n",
      "09-04-2023  10:58    <DIR>          Postman\n",
      "11-03-2023  16:02    <DIR>          Saved Games\n",
      "08-04-2023  11:03    <DIR>          Searches\n",
      "01-09-2023  00:46             1,023 Untitled.ipynb\n",
      "01-09-2023  01:06             1,341 Untitled1.ipynb\n",
      "01-09-2023  01:30             1,077 Untitled2.ipynb\n",
      "01-09-2023  01:35             1,077 Untitled3.ipynb\n",
      "02-09-2023  10:51             3,160 Untitled4.ipynb\n",
      "03-09-2023  10:26                72 Untitled5.ipynb\n",
      "03-09-2023  11:48                72 Untitled6.ipynb\n",
      "10-03-2023  16:48    <DIR>          Videos\n",
      "              14 File(s)         61,793 bytes\n",
      "              37 Dir(s)  25,173,647,360 bytes free\n"
     ]
    }
   ],
   "source": [
    "ls"
   ]
  },
  {
   "cell_type": "code",
   "execution_count": 18,
   "id": "47f10b66",
   "metadata": {},
   "outputs": [
    {
     "name": "stdout",
     "output_type": "stream",
     "text": [
      " Volume in drive C is Windows\n",
      " Volume Serial Number is AC7E-C806\n",
      "\n",
      " Directory of C:\\Users\\HP\n",
      "\n",
      "03-09-2023  12:16    <DIR>          .\n",
      "21-07-2023  00:17    <DIR>          ..\n",
      "09-07-2023  23:06    <DIR>          .android\n",
      "17-04-2023  21:12               470 .bash_history\n",
      "03-09-2023  12:16    <DIR>          .conda\n",
      "03-09-2023  10:20                25 .condarc\n",
      "12-04-2023  09:32    <DIR>          .config\n",
      "01-09-2023  00:26    <DIR>          .continuum\n",
      "17-04-2023  20:45                53 .gitconfig\n",
      "09-07-2023  22:55    <DIR>          .gradle\n",
      "03-09-2023  11:49    <DIR>          .ipynb_checkpoints\n",
      "01-09-2023  00:41    <DIR>          .ipython\n",
      "01-09-2023  01:04    <DIR>          .jupyter\n",
      "09-07-2023  22:58    <DIR>          .m2\n",
      "05-03-2023  22:35    <DIR>          .ms-ad\n",
      "06-08-2023  19:59                74 .node_repl_history\n",
      "06-08-2023  19:42    <DIR>          .rest-client\n",
      "17-04-2023  21:10    <DIR>          .ssh\n",
      "17-06-2023  11:16    <DIR>          .vscode\n",
      "01-09-2023  00:27    <DIR>          anaconda3\n",
      "09-07-2023  22:52    <DIR>          AndroidStudioProjects\n",
      "23-08-2023  22:30    <DIR>          app\n",
      "17-06-2023  11:19    <DIR>          clone_website\n",
      "03-09-2023  12:14            12,540 dataframes.ipynb\n",
      "17-06-2023  11:22    <DIR>          DeliveryRouteFinder\n",
      "01-09-2023  00:13    <DIR>          Downloads\n",
      "05-04-2023  22:21    <DIR>          DS-Project\n",
      "17-06-2023  11:17    <DIR>          DS-Project-1\n",
      "04-04-2023  22:59    <DIR>          DSW_Project\n",
      "14-05-2023  13:08    <DIR>          Favorites\n",
      "26-07-2023  19:56    <DIR>          Hackathon_Project\n",
      "07-04-2023  23:59    <DIR>          Mobikart-Mobile-E-Commerce-Website\n",
      "07-04-2023  23:52    <DIR>          mobile-shop-backend\n",
      "06-03-2023  10:25    <DIR>          Music\n",
      "02-09-2023  12:53            35,074 numpy.ipynb\n",
      "03-09-2023  08:32    <DIR>          OneDrive\n",
      "08-04-2023  00:02    <DIR>          Online-Mobile-Shopping-\n",
      "08-04-2023  00:05    <DIR>          online-shopping\n",
      "03-09-2023  11:00             9,272 pandas series.ipynb\n",
      "04-04-2023  22:54    <DIR>          portfolio\n",
      "09-04-2023  10:58    <DIR>          Postman\n",
      "11-03-2023  16:02    <DIR>          Saved Games\n",
      "08-04-2023  11:03    <DIR>          Searches\n",
      "03-09-2023  12:16                 0 tips.csv.txt\n",
      "01-09-2023  00:46             1,023 Untitled.ipynb\n",
      "01-09-2023  01:06             1,341 Untitled1.ipynb\n",
      "01-09-2023  01:30             1,077 Untitled2.ipynb\n",
      "01-09-2023  01:35             1,077 Untitled3.ipynb\n",
      "02-09-2023  10:51             3,160 Untitled4.ipynb\n",
      "03-09-2023  10:26                72 Untitled5.ipynb\n",
      "03-09-2023  11:48                72 Untitled6.ipynb\n",
      "10-03-2023  16:48    <DIR>          Videos\n",
      "              15 File(s)         65,330 bytes\n",
      "              37 Dir(s)  25,090,269,184 bytes free\n"
     ]
    }
   ],
   "source": [
    "ls"
   ]
  },
  {
   "cell_type": "code",
   "execution_count": 19,
   "id": "921b2bb4",
   "metadata": {},
   "outputs": [
    {
     "name": "stdout",
     "output_type": "stream",
     "text": [
      " Volume in drive C is Windows\n",
      " Volume Serial Number is AC7E-C806\n",
      "\n",
      " Directory of C:\\Users\\HP\n",
      "\n",
      "03-09-2023  12:21    <DIR>          .\n",
      "21-07-2023  00:17    <DIR>          ..\n",
      "09-07-2023  23:06    <DIR>          .android\n",
      "17-04-2023  21:12               470 .bash_history\n",
      "03-09-2023  12:21    <DIR>          .conda\n",
      "03-09-2023  10:20                25 .condarc\n",
      "12-04-2023  09:32    <DIR>          .config\n",
      "01-09-2023  00:26    <DIR>          .continuum\n",
      "17-04-2023  20:45                53 .gitconfig\n",
      "09-07-2023  22:55    <DIR>          .gradle\n",
      "03-09-2023  11:49    <DIR>          .ipynb_checkpoints\n",
      "01-09-2023  00:41    <DIR>          .ipython\n",
      "01-09-2023  01:04    <DIR>          .jupyter\n",
      "09-07-2023  22:58    <DIR>          .m2\n",
      "05-03-2023  22:35    <DIR>          .ms-ad\n",
      "06-08-2023  19:59                74 .node_repl_history\n",
      "06-08-2023  19:42    <DIR>          .rest-client\n",
      "17-04-2023  21:10    <DIR>          .ssh\n",
      "17-06-2023  11:16    <DIR>          .vscode\n",
      "01-09-2023  00:27    <DIR>          anaconda3\n",
      "09-07-2023  22:52    <DIR>          AndroidStudioProjects\n",
      "23-08-2023  22:30    <DIR>          app\n",
      "17-06-2023  11:19    <DIR>          clone_website\n",
      "03-09-2023  12:19            16,137 dataframes.ipynb\n",
      "17-06-2023  11:22    <DIR>          DeliveryRouteFinder\n",
      "01-09-2023  00:13    <DIR>          Downloads\n",
      "05-04-2023  22:21    <DIR>          DS-Project\n",
      "17-06-2023  11:17    <DIR>          DS-Project-1\n",
      "04-04-2023  22:59    <DIR>          DSW_Project\n",
      "14-05-2023  13:08    <DIR>          Favorites\n",
      "26-07-2023  19:56    <DIR>          Hackathon_Project\n",
      "07-04-2023  23:59    <DIR>          Mobikart-Mobile-E-Commerce-Website\n",
      "07-04-2023  23:52    <DIR>          mobile-shop-backend\n",
      "06-03-2023  10:25    <DIR>          Music\n",
      "02-09-2023  12:53            35,074 numpy.ipynb\n",
      "03-09-2023  08:32    <DIR>          OneDrive\n",
      "08-04-2023  00:02    <DIR>          Online-Mobile-Shopping-\n",
      "08-04-2023  00:05    <DIR>          online-shopping\n",
      "03-09-2023  11:00             9,272 pandas series.ipynb\n",
      "04-04-2023  22:54    <DIR>          portfolio\n",
      "09-04-2023  10:58    <DIR>          Postman\n",
      "11-03-2023  16:02    <DIR>          Saved Games\n",
      "08-04-2023  11:03    <DIR>          Searches\n",
      "03-09-2023  12:21                80 tips.csv\n",
      "03-09-2023  12:16                 0 tips.csv.txt\n",
      "01-09-2023  00:46             1,023 Untitled.ipynb\n",
      "01-09-2023  01:06             1,341 Untitled1.ipynb\n",
      "01-09-2023  01:30             1,077 Untitled2.ipynb\n",
      "01-09-2023  01:35             1,077 Untitled3.ipynb\n",
      "02-09-2023  10:51             3,160 Untitled4.ipynb\n",
      "03-09-2023  10:26                72 Untitled5.ipynb\n",
      "03-09-2023  11:48                72 Untitled6.ipynb\n",
      "10-03-2023  16:48    <DIR>          Videos\n",
      "              16 File(s)         69,007 bytes\n",
      "              37 Dir(s)  25,352,785,920 bytes free\n"
     ]
    }
   ],
   "source": [
    "ls"
   ]
  },
  {
   "cell_type": "code",
   "execution_count": 42,
   "id": "002c74fd",
   "metadata": {},
   "outputs": [],
   "source": [
    "df = pd.read_csv('tips.csv')"
   ]
  },
  {
   "cell_type": "code",
   "execution_count": 43,
   "id": "2f2244af",
   "metadata": {},
   "outputs": [
    {
     "data": {
      "text/html": [
       "<div>\n",
       "<style scoped>\n",
       "    .dataframe tbody tr th:only-of-type {\n",
       "        vertical-align: middle;\n",
       "    }\n",
       "\n",
       "    .dataframe tbody tr th {\n",
       "        vertical-align: top;\n",
       "    }\n",
       "\n",
       "    .dataframe thead th {\n",
       "        text-align: right;\n",
       "    }\n",
       "</style>\n",
       "<table border=\"1\" class=\"dataframe\">\n",
       "  <thead>\n",
       "    <tr style=\"text-align: right;\">\n",
       "      <th></th>\n",
       "      <th>Name</th>\n",
       "      <th>RollNo</th>\n",
       "      <th>Subject</th>\n",
       "      <th>Fees</th>\n",
       "      <th>Extra_fees</th>\n",
       "    </tr>\n",
       "  </thead>\n",
       "  <tbody>\n",
       "    <tr>\n",
       "      <th>0</th>\n",
       "      <td>Diya</td>\n",
       "      <td>3039</td>\n",
       "      <td>Maths</td>\n",
       "      <td>1200</td>\n",
       "      <td>29</td>\n",
       "    </tr>\n",
       "    <tr>\n",
       "      <th>1</th>\n",
       "      <td>Navya</td>\n",
       "      <td>3147</td>\n",
       "      <td>English</td>\n",
       "      <td>496</td>\n",
       "      <td>75</td>\n",
       "    </tr>\n",
       "    <tr>\n",
       "      <th>2</th>\n",
       "      <td>Geetika</td>\n",
       "      <td>3045</td>\n",
       "      <td>Science</td>\n",
       "      <td>3871</td>\n",
       "      <td>5</td>\n",
       "    </tr>\n",
       "  </tbody>\n",
       "</table>\n",
       "</div>"
      ],
      "text/plain": [
       "      Name  RollNo  Subject  Fees  Extra_fees\n",
       "0     Diya    3039    Maths  1200          29\n",
       "1    Navya    3147  English   496          75\n",
       "2  Geetika    3045  Science  3871           5"
      ]
     },
     "execution_count": 43,
     "metadata": {},
     "output_type": "execute_result"
    }
   ],
   "source": [
    "df"
   ]
  },
  {
   "cell_type": "code",
   "execution_count": 44,
   "id": "5967585a",
   "metadata": {},
   "outputs": [
    {
     "data": {
      "text/plain": [
       "Index(['Name', 'RollNo', 'Subject', 'Fees', 'Extra_fees'], dtype='object')"
      ]
     },
     "execution_count": 44,
     "metadata": {},
     "output_type": "execute_result"
    }
   ],
   "source": [
    "df.columns"
   ]
  },
  {
   "cell_type": "code",
   "execution_count": 45,
   "id": "2b8621b0",
   "metadata": {},
   "outputs": [
    {
     "data": {
      "text/plain": [
       "RangeIndex(start=0, stop=3, step=1)"
      ]
     },
     "execution_count": 45,
     "metadata": {},
     "output_type": "execute_result"
    }
   ],
   "source": [
    "df.index"
   ]
  },
  {
   "cell_type": "code",
   "execution_count": 46,
   "id": "1239059d",
   "metadata": {},
   "outputs": [
    {
     "data": {
      "text/html": [
       "<div>\n",
       "<style scoped>\n",
       "    .dataframe tbody tr th:only-of-type {\n",
       "        vertical-align: middle;\n",
       "    }\n",
       "\n",
       "    .dataframe tbody tr th {\n",
       "        vertical-align: top;\n",
       "    }\n",
       "\n",
       "    .dataframe thead th {\n",
       "        text-align: right;\n",
       "    }\n",
       "</style>\n",
       "<table border=\"1\" class=\"dataframe\">\n",
       "  <thead>\n",
       "    <tr style=\"text-align: right;\">\n",
       "      <th></th>\n",
       "      <th>Name</th>\n",
       "      <th>RollNo</th>\n",
       "      <th>Subject</th>\n",
       "      <th>Fees</th>\n",
       "      <th>Extra_fees</th>\n",
       "    </tr>\n",
       "  </thead>\n",
       "  <tbody>\n",
       "    <tr>\n",
       "      <th>0</th>\n",
       "      <td>Diya</td>\n",
       "      <td>3039</td>\n",
       "      <td>Maths</td>\n",
       "      <td>1200</td>\n",
       "      <td>29</td>\n",
       "    </tr>\n",
       "    <tr>\n",
       "      <th>1</th>\n",
       "      <td>Navya</td>\n",
       "      <td>3147</td>\n",
       "      <td>English</td>\n",
       "      <td>496</td>\n",
       "      <td>75</td>\n",
       "    </tr>\n",
       "  </tbody>\n",
       "</table>\n",
       "</div>"
      ],
      "text/plain": [
       "    Name  RollNo  Subject  Fees  Extra_fees\n",
       "0   Diya    3039    Maths  1200          29\n",
       "1  Navya    3147  English   496          75"
      ]
     },
     "execution_count": 46,
     "metadata": {},
     "output_type": "execute_result"
    }
   ],
   "source": [
    "df.head(2)"
   ]
  },
  {
   "cell_type": "code",
   "execution_count": 47,
   "id": "c6bf10c5",
   "metadata": {},
   "outputs": [
    {
     "data": {
      "text/html": [
       "<div>\n",
       "<style scoped>\n",
       "    .dataframe tbody tr th:only-of-type {\n",
       "        vertical-align: middle;\n",
       "    }\n",
       "\n",
       "    .dataframe tbody tr th {\n",
       "        vertical-align: top;\n",
       "    }\n",
       "\n",
       "    .dataframe thead th {\n",
       "        text-align: right;\n",
       "    }\n",
       "</style>\n",
       "<table border=\"1\" class=\"dataframe\">\n",
       "  <thead>\n",
       "    <tr style=\"text-align: right;\">\n",
       "      <th></th>\n",
       "      <th>Name</th>\n",
       "      <th>RollNo</th>\n",
       "      <th>Subject</th>\n",
       "      <th>Fees</th>\n",
       "      <th>Extra_fees</th>\n",
       "    </tr>\n",
       "  </thead>\n",
       "  <tbody>\n",
       "    <tr>\n",
       "      <th>1</th>\n",
       "      <td>Navya</td>\n",
       "      <td>3147</td>\n",
       "      <td>English</td>\n",
       "      <td>496</td>\n",
       "      <td>75</td>\n",
       "    </tr>\n",
       "    <tr>\n",
       "      <th>2</th>\n",
       "      <td>Geetika</td>\n",
       "      <td>3045</td>\n",
       "      <td>Science</td>\n",
       "      <td>3871</td>\n",
       "      <td>5</td>\n",
       "    </tr>\n",
       "  </tbody>\n",
       "</table>\n",
       "</div>"
      ],
      "text/plain": [
       "      Name  RollNo  Subject  Fees  Extra_fees\n",
       "1    Navya    3147  English   496          75\n",
       "2  Geetika    3045  Science  3871           5"
      ]
     },
     "execution_count": 47,
     "metadata": {},
     "output_type": "execute_result"
    }
   ],
   "source": [
    "df.tail(2)"
   ]
  },
  {
   "cell_type": "code",
   "execution_count": 48,
   "id": "c1721615",
   "metadata": {},
   "outputs": [
    {
     "data": {
      "text/plain": [
       "<bound method DataFrame.info of       Name  RollNo  Subject  Fees  Extra_fees\n",
       "0     Diya    3039    Maths  1200          29\n",
       "1    Navya    3147  English   496          75\n",
       "2  Geetika    3045  Science  3871           5>"
      ]
     },
     "execution_count": 48,
     "metadata": {},
     "output_type": "execute_result"
    }
   ],
   "source": [
    "df.info"
   ]
  },
  {
   "cell_type": "code",
   "execution_count": 49,
   "id": "3c5dee66",
   "metadata": {},
   "outputs": [
    {
     "name": "stdout",
     "output_type": "stream",
     "text": [
      "<class 'pandas.core.frame.DataFrame'>\n",
      "RangeIndex: 3 entries, 0 to 2\n",
      "Data columns (total 5 columns):\n",
      " #   Column      Non-Null Count  Dtype \n",
      "---  ------      --------------  ----- \n",
      " 0   Name        3 non-null      object\n",
      " 1   RollNo      3 non-null      int64 \n",
      " 2   Subject     3 non-null      object\n",
      " 3   Fees        3 non-null      int64 \n",
      " 4   Extra_fees  3 non-null      int64 \n",
      "dtypes: int64(3), object(2)\n",
      "memory usage: 252.0+ bytes\n"
     ]
    }
   ],
   "source": [
    "df.info()"
   ]
  },
  {
   "cell_type": "code",
   "execution_count": 50,
   "id": "a6703012",
   "metadata": {},
   "outputs": [
    {
     "data": {
      "text/html": [
       "<div>\n",
       "<style scoped>\n",
       "    .dataframe tbody tr th:only-of-type {\n",
       "        vertical-align: middle;\n",
       "    }\n",
       "\n",
       "    .dataframe tbody tr th {\n",
       "        vertical-align: top;\n",
       "    }\n",
       "\n",
       "    .dataframe thead th {\n",
       "        text-align: right;\n",
       "    }\n",
       "</style>\n",
       "<table border=\"1\" class=\"dataframe\">\n",
       "  <thead>\n",
       "    <tr style=\"text-align: right;\">\n",
       "      <th></th>\n",
       "      <th>RollNo</th>\n",
       "      <th>Fees</th>\n",
       "      <th>Extra_fees</th>\n",
       "    </tr>\n",
       "  </thead>\n",
       "  <tbody>\n",
       "    <tr>\n",
       "      <th>count</th>\n",
       "      <td>3.000000</td>\n",
       "      <td>3.000000</td>\n",
       "      <td>3.000000</td>\n",
       "    </tr>\n",
       "    <tr>\n",
       "      <th>mean</th>\n",
       "      <td>3077.000000</td>\n",
       "      <td>1855.666667</td>\n",
       "      <td>36.333333</td>\n",
       "    </tr>\n",
       "    <tr>\n",
       "      <th>std</th>\n",
       "      <td>60.695964</td>\n",
       "      <td>1780.471941</td>\n",
       "      <td>35.571524</td>\n",
       "    </tr>\n",
       "    <tr>\n",
       "      <th>min</th>\n",
       "      <td>3039.000000</td>\n",
       "      <td>496.000000</td>\n",
       "      <td>5.000000</td>\n",
       "    </tr>\n",
       "    <tr>\n",
       "      <th>25%</th>\n",
       "      <td>3042.000000</td>\n",
       "      <td>848.000000</td>\n",
       "      <td>17.000000</td>\n",
       "    </tr>\n",
       "    <tr>\n",
       "      <th>50%</th>\n",
       "      <td>3045.000000</td>\n",
       "      <td>1200.000000</td>\n",
       "      <td>29.000000</td>\n",
       "    </tr>\n",
       "    <tr>\n",
       "      <th>75%</th>\n",
       "      <td>3096.000000</td>\n",
       "      <td>2535.500000</td>\n",
       "      <td>52.000000</td>\n",
       "    </tr>\n",
       "    <tr>\n",
       "      <th>max</th>\n",
       "      <td>3147.000000</td>\n",
       "      <td>3871.000000</td>\n",
       "      <td>75.000000</td>\n",
       "    </tr>\n",
       "  </tbody>\n",
       "</table>\n",
       "</div>"
      ],
      "text/plain": [
       "            RollNo         Fees  Extra_fees\n",
       "count     3.000000     3.000000    3.000000\n",
       "mean   3077.000000  1855.666667   36.333333\n",
       "std      60.695964  1780.471941   35.571524\n",
       "min    3039.000000   496.000000    5.000000\n",
       "25%    3042.000000   848.000000   17.000000\n",
       "50%    3045.000000  1200.000000   29.000000\n",
       "75%    3096.000000  2535.500000   52.000000\n",
       "max    3147.000000  3871.000000   75.000000"
      ]
     },
     "execution_count": 50,
     "metadata": {},
     "output_type": "execute_result"
    }
   ],
   "source": [
    "df.describe()"
   ]
  },
  {
   "cell_type": "code",
   "execution_count": 51,
   "id": "05bd6e40",
   "metadata": {},
   "outputs": [
    {
     "data": {
      "text/html": [
       "<div>\n",
       "<style scoped>\n",
       "    .dataframe tbody tr th:only-of-type {\n",
       "        vertical-align: middle;\n",
       "    }\n",
       "\n",
       "    .dataframe tbody tr th {\n",
       "        vertical-align: top;\n",
       "    }\n",
       "\n",
       "    .dataframe thead th {\n",
       "        text-align: right;\n",
       "    }\n",
       "</style>\n",
       "<table border=\"1\" class=\"dataframe\">\n",
       "  <thead>\n",
       "    <tr style=\"text-align: right;\">\n",
       "      <th></th>\n",
       "      <th>count</th>\n",
       "      <th>mean</th>\n",
       "      <th>std</th>\n",
       "      <th>min</th>\n",
       "      <th>25%</th>\n",
       "      <th>50%</th>\n",
       "      <th>75%</th>\n",
       "      <th>max</th>\n",
       "    </tr>\n",
       "  </thead>\n",
       "  <tbody>\n",
       "    <tr>\n",
       "      <th>RollNo</th>\n",
       "      <td>3.0</td>\n",
       "      <td>3077.000000</td>\n",
       "      <td>60.695964</td>\n",
       "      <td>3039.0</td>\n",
       "      <td>3042.0</td>\n",
       "      <td>3045.0</td>\n",
       "      <td>3096.0</td>\n",
       "      <td>3147.0</td>\n",
       "    </tr>\n",
       "    <tr>\n",
       "      <th>Fees</th>\n",
       "      <td>3.0</td>\n",
       "      <td>1855.666667</td>\n",
       "      <td>1780.471941</td>\n",
       "      <td>496.0</td>\n",
       "      <td>848.0</td>\n",
       "      <td>1200.0</td>\n",
       "      <td>2535.5</td>\n",
       "      <td>3871.0</td>\n",
       "    </tr>\n",
       "    <tr>\n",
       "      <th>Extra_fees</th>\n",
       "      <td>3.0</td>\n",
       "      <td>36.333333</td>\n",
       "      <td>35.571524</td>\n",
       "      <td>5.0</td>\n",
       "      <td>17.0</td>\n",
       "      <td>29.0</td>\n",
       "      <td>52.0</td>\n",
       "      <td>75.0</td>\n",
       "    </tr>\n",
       "  </tbody>\n",
       "</table>\n",
       "</div>"
      ],
      "text/plain": [
       "            count         mean          std     min     25%     50%     75%  \\\n",
       "RollNo        3.0  3077.000000    60.695964  3039.0  3042.0  3045.0  3096.0   \n",
       "Fees          3.0  1855.666667  1780.471941   496.0   848.0  1200.0  2535.5   \n",
       "Extra_fees    3.0    36.333333    35.571524     5.0    17.0    29.0    52.0   \n",
       "\n",
       "               max  \n",
       "RollNo      3147.0  \n",
       "Fees        3871.0  \n",
       "Extra_fees    75.0  "
      ]
     },
     "execution_count": 51,
     "metadata": {},
     "output_type": "execute_result"
    }
   ],
   "source": [
    "df.describe().transpose()"
   ]
  },
  {
   "cell_type": "code",
   "execution_count": 52,
   "id": "d0305f9b",
   "metadata": {},
   "outputs": [
    {
     "data": {
      "text/html": [
       "<div>\n",
       "<style scoped>\n",
       "    .dataframe tbody tr th:only-of-type {\n",
       "        vertical-align: middle;\n",
       "    }\n",
       "\n",
       "    .dataframe tbody tr th {\n",
       "        vertical-align: top;\n",
       "    }\n",
       "\n",
       "    .dataframe thead th {\n",
       "        text-align: right;\n",
       "    }\n",
       "</style>\n",
       "<table border=\"1\" class=\"dataframe\">\n",
       "  <thead>\n",
       "    <tr style=\"text-align: right;\">\n",
       "      <th></th>\n",
       "      <th>Name</th>\n",
       "      <th>RollNo</th>\n",
       "      <th>Subject</th>\n",
       "      <th>Fees</th>\n",
       "      <th>Extra_fees</th>\n",
       "    </tr>\n",
       "  </thead>\n",
       "  <tbody>\n",
       "    <tr>\n",
       "      <th>0</th>\n",
       "      <td>Diya</td>\n",
       "      <td>3039</td>\n",
       "      <td>Maths</td>\n",
       "      <td>1200</td>\n",
       "      <td>29</td>\n",
       "    </tr>\n",
       "    <tr>\n",
       "      <th>1</th>\n",
       "      <td>Navya</td>\n",
       "      <td>3147</td>\n",
       "      <td>English</td>\n",
       "      <td>496</td>\n",
       "      <td>75</td>\n",
       "    </tr>\n",
       "    <tr>\n",
       "      <th>2</th>\n",
       "      <td>Geetika</td>\n",
       "      <td>3045</td>\n",
       "      <td>Science</td>\n",
       "      <td>3871</td>\n",
       "      <td>5</td>\n",
       "    </tr>\n",
       "  </tbody>\n",
       "</table>\n",
       "</div>"
      ],
      "text/plain": [
       "      Name  RollNo  Subject  Fees  Extra_fees\n",
       "0     Diya    3039    Maths  1200          29\n",
       "1    Navya    3147  English   496          75\n",
       "2  Geetika    3045  Science  3871           5"
      ]
     },
     "execution_count": 52,
     "metadata": {},
     "output_type": "execute_result"
    }
   ],
   "source": [
    "df.head()"
   ]
  },
  {
   "cell_type": "code",
   "execution_count": 53,
   "id": "de33e27a",
   "metadata": {},
   "outputs": [
    {
     "data": {
      "text/plain": [
       "0    3039\n",
       "1    3147\n",
       "2    3045\n",
       "Name: RollNo, dtype: int64"
      ]
     },
     "execution_count": 53,
     "metadata": {},
     "output_type": "execute_result"
    }
   ],
   "source": [
    "df['RollNo']"
   ]
  },
  {
   "cell_type": "code",
   "execution_count": 54,
   "id": "db040094",
   "metadata": {},
   "outputs": [
    {
     "data": {
      "text/plain": [
       "pandas.core.series.Series"
      ]
     },
     "execution_count": 54,
     "metadata": {},
     "output_type": "execute_result"
    }
   ],
   "source": [
    "type(df['RollNo'])"
   ]
  },
  {
   "cell_type": "code",
   "execution_count": 55,
   "id": "9297c319",
   "metadata": {},
   "outputs": [
    {
     "data": {
      "text/html": [
       "<div>\n",
       "<style scoped>\n",
       "    .dataframe tbody tr th:only-of-type {\n",
       "        vertical-align: middle;\n",
       "    }\n",
       "\n",
       "    .dataframe tbody tr th {\n",
       "        vertical-align: top;\n",
       "    }\n",
       "\n",
       "    .dataframe thead th {\n",
       "        text-align: right;\n",
       "    }\n",
       "</style>\n",
       "<table border=\"1\" class=\"dataframe\">\n",
       "  <thead>\n",
       "    <tr style=\"text-align: right;\">\n",
       "      <th></th>\n",
       "      <th>RollNo</th>\n",
       "      <th>Name</th>\n",
       "    </tr>\n",
       "  </thead>\n",
       "  <tbody>\n",
       "    <tr>\n",
       "      <th>0</th>\n",
       "      <td>3039</td>\n",
       "      <td>Diya</td>\n",
       "    </tr>\n",
       "    <tr>\n",
       "      <th>1</th>\n",
       "      <td>3147</td>\n",
       "      <td>Navya</td>\n",
       "    </tr>\n",
       "    <tr>\n",
       "      <th>2</th>\n",
       "      <td>3045</td>\n",
       "      <td>Geetika</td>\n",
       "    </tr>\n",
       "  </tbody>\n",
       "</table>\n",
       "</div>"
      ],
      "text/plain": [
       "   RollNo     Name\n",
       "0    3039     Diya\n",
       "1    3147    Navya\n",
       "2    3045  Geetika"
      ]
     },
     "execution_count": 55,
     "metadata": {},
     "output_type": "execute_result"
    }
   ],
   "source": [
    "mycols = ['RollNo', 'Name']\n",
    "df[mycols]"
   ]
  },
  {
   "cell_type": "code",
   "execution_count": 57,
   "id": "c847ffc6",
   "metadata": {},
   "outputs": [
    {
     "data": {
      "text/html": [
       "<div>\n",
       "<style scoped>\n",
       "    .dataframe tbody tr th:only-of-type {\n",
       "        vertical-align: middle;\n",
       "    }\n",
       "\n",
       "    .dataframe tbody tr th {\n",
       "        vertical-align: top;\n",
       "    }\n",
       "\n",
       "    .dataframe thead th {\n",
       "        text-align: right;\n",
       "    }\n",
       "</style>\n",
       "<table border=\"1\" class=\"dataframe\">\n",
       "  <thead>\n",
       "    <tr style=\"text-align: right;\">\n",
       "      <th></th>\n",
       "      <th>Name</th>\n",
       "      <th>RollNo</th>\n",
       "      <th>Subject</th>\n",
       "      <th>Fees</th>\n",
       "      <th>Extra_fees</th>\n",
       "    </tr>\n",
       "  </thead>\n",
       "  <tbody>\n",
       "    <tr>\n",
       "      <th>0</th>\n",
       "      <td>Diya</td>\n",
       "      <td>3039</td>\n",
       "      <td>Maths</td>\n",
       "      <td>1200</td>\n",
       "      <td>29</td>\n",
       "    </tr>\n",
       "    <tr>\n",
       "      <th>1</th>\n",
       "      <td>Navya</td>\n",
       "      <td>3147</td>\n",
       "      <td>English</td>\n",
       "      <td>496</td>\n",
       "      <td>75</td>\n",
       "    </tr>\n",
       "    <tr>\n",
       "      <th>2</th>\n",
       "      <td>Geetika</td>\n",
       "      <td>3045</td>\n",
       "      <td>Science</td>\n",
       "      <td>3871</td>\n",
       "      <td>5</td>\n",
       "    </tr>\n",
       "  </tbody>\n",
       "</table>\n",
       "</div>"
      ],
      "text/plain": [
       "      Name  RollNo  Subject  Fees  Extra_fees\n",
       "0     Diya    3039    Maths  1200          29\n",
       "1    Navya    3147  English   496          75\n",
       "2  Geetika    3045  Science  3871           5"
      ]
     },
     "execution_count": 57,
     "metadata": {},
     "output_type": "execute_result"
    }
   ],
   "source": [
    "df.head()"
   ]
  },
  {
   "cell_type": "code",
   "execution_count": 61,
   "id": "2bdc42a9",
   "metadata": {},
   "outputs": [],
   "source": [
    "df['Extra_fees_percentage'] = 100*df['Extra_fees']/df['Fees']"
   ]
  },
  {
   "cell_type": "code",
   "execution_count": 62,
   "id": "f57e2c24",
   "metadata": {},
   "outputs": [
    {
     "data": {
      "text/html": [
       "<div>\n",
       "<style scoped>\n",
       "    .dataframe tbody tr th:only-of-type {\n",
       "        vertical-align: middle;\n",
       "    }\n",
       "\n",
       "    .dataframe tbody tr th {\n",
       "        vertical-align: top;\n",
       "    }\n",
       "\n",
       "    .dataframe thead th {\n",
       "        text-align: right;\n",
       "    }\n",
       "</style>\n",
       "<table border=\"1\" class=\"dataframe\">\n",
       "  <thead>\n",
       "    <tr style=\"text-align: right;\">\n",
       "      <th></th>\n",
       "      <th>Name</th>\n",
       "      <th>RollNo</th>\n",
       "      <th>Subject</th>\n",
       "      <th>Fees</th>\n",
       "      <th>Extra_fees</th>\n",
       "      <th>Extra_fees_percentage</th>\n",
       "    </tr>\n",
       "  </thead>\n",
       "  <tbody>\n",
       "    <tr>\n",
       "      <th>0</th>\n",
       "      <td>Diya</td>\n",
       "      <td>3039</td>\n",
       "      <td>Maths</td>\n",
       "      <td>1200</td>\n",
       "      <td>29</td>\n",
       "      <td>2.416667</td>\n",
       "    </tr>\n",
       "    <tr>\n",
       "      <th>1</th>\n",
       "      <td>Navya</td>\n",
       "      <td>3147</td>\n",
       "      <td>English</td>\n",
       "      <td>496</td>\n",
       "      <td>75</td>\n",
       "      <td>15.120968</td>\n",
       "    </tr>\n",
       "    <tr>\n",
       "      <th>2</th>\n",
       "      <td>Geetika</td>\n",
       "      <td>3045</td>\n",
       "      <td>Science</td>\n",
       "      <td>3871</td>\n",
       "      <td>5</td>\n",
       "      <td>0.129166</td>\n",
       "    </tr>\n",
       "  </tbody>\n",
       "</table>\n",
       "</div>"
      ],
      "text/plain": [
       "      Name  RollNo  Subject  Fees  Extra_fees  Extra_fees_percentage\n",
       "0     Diya    3039    Maths  1200          29               2.416667\n",
       "1    Navya    3147  English   496          75              15.120968\n",
       "2  Geetika    3045  Science  3871           5               0.129166"
      ]
     },
     "execution_count": 62,
     "metadata": {},
     "output_type": "execute_result"
    }
   ],
   "source": [
    "df.head()"
   ]
  },
  {
   "cell_type": "code",
   "execution_count": 63,
   "id": "e4b20849",
   "metadata": {},
   "outputs": [],
   "source": [
    "df['Extra_fees_percentage'] = np.round(100*df['Extra_fees']/df['Fees'])"
   ]
  },
  {
   "cell_type": "code",
   "execution_count": 64,
   "id": "b614b989",
   "metadata": {},
   "outputs": [
    {
     "data": {
      "text/html": [
       "<div>\n",
       "<style scoped>\n",
       "    .dataframe tbody tr th:only-of-type {\n",
       "        vertical-align: middle;\n",
       "    }\n",
       "\n",
       "    .dataframe tbody tr th {\n",
       "        vertical-align: top;\n",
       "    }\n",
       "\n",
       "    .dataframe thead th {\n",
       "        text-align: right;\n",
       "    }\n",
       "</style>\n",
       "<table border=\"1\" class=\"dataframe\">\n",
       "  <thead>\n",
       "    <tr style=\"text-align: right;\">\n",
       "      <th></th>\n",
       "      <th>Name</th>\n",
       "      <th>RollNo</th>\n",
       "      <th>Subject</th>\n",
       "      <th>Fees</th>\n",
       "      <th>Extra_fees</th>\n",
       "      <th>Extra_fees_percentage</th>\n",
       "    </tr>\n",
       "  </thead>\n",
       "  <tbody>\n",
       "    <tr>\n",
       "      <th>0</th>\n",
       "      <td>Diya</td>\n",
       "      <td>3039</td>\n",
       "      <td>Maths</td>\n",
       "      <td>1200</td>\n",
       "      <td>29</td>\n",
       "      <td>2.0</td>\n",
       "    </tr>\n",
       "    <tr>\n",
       "      <th>1</th>\n",
       "      <td>Navya</td>\n",
       "      <td>3147</td>\n",
       "      <td>English</td>\n",
       "      <td>496</td>\n",
       "      <td>75</td>\n",
       "      <td>15.0</td>\n",
       "    </tr>\n",
       "    <tr>\n",
       "      <th>2</th>\n",
       "      <td>Geetika</td>\n",
       "      <td>3045</td>\n",
       "      <td>Science</td>\n",
       "      <td>3871</td>\n",
       "      <td>5</td>\n",
       "      <td>0.0</td>\n",
       "    </tr>\n",
       "  </tbody>\n",
       "</table>\n",
       "</div>"
      ],
      "text/plain": [
       "      Name  RollNo  Subject  Fees  Extra_fees  Extra_fees_percentage\n",
       "0     Diya    3039    Maths  1200          29                    2.0\n",
       "1    Navya    3147  English   496          75                   15.0\n",
       "2  Geetika    3045  Science  3871           5                    0.0"
      ]
     },
     "execution_count": 64,
     "metadata": {},
     "output_type": "execute_result"
    }
   ],
   "source": [
    "df.head()"
   ]
  },
  {
   "cell_type": "code",
   "execution_count": 66,
   "id": "e3c9301c",
   "metadata": {},
   "outputs": [],
   "source": [
    "df = df.drop('Extra_fees_percentage', axis=1)"
   ]
  },
  {
   "cell_type": "code",
   "execution_count": 67,
   "id": "a3bf6f55",
   "metadata": {},
   "outputs": [
    {
     "data": {
      "text/html": [
       "<div>\n",
       "<style scoped>\n",
       "    .dataframe tbody tr th:only-of-type {\n",
       "        vertical-align: middle;\n",
       "    }\n",
       "\n",
       "    .dataframe tbody tr th {\n",
       "        vertical-align: top;\n",
       "    }\n",
       "\n",
       "    .dataframe thead th {\n",
       "        text-align: right;\n",
       "    }\n",
       "</style>\n",
       "<table border=\"1\" class=\"dataframe\">\n",
       "  <thead>\n",
       "    <tr style=\"text-align: right;\">\n",
       "      <th></th>\n",
       "      <th>Name</th>\n",
       "      <th>RollNo</th>\n",
       "      <th>Subject</th>\n",
       "      <th>Fees</th>\n",
       "      <th>Extra_fees</th>\n",
       "    </tr>\n",
       "  </thead>\n",
       "  <tbody>\n",
       "    <tr>\n",
       "      <th>0</th>\n",
       "      <td>Diya</td>\n",
       "      <td>3039</td>\n",
       "      <td>Maths</td>\n",
       "      <td>1200</td>\n",
       "      <td>29</td>\n",
       "    </tr>\n",
       "    <tr>\n",
       "      <th>1</th>\n",
       "      <td>Navya</td>\n",
       "      <td>3147</td>\n",
       "      <td>English</td>\n",
       "      <td>496</td>\n",
       "      <td>75</td>\n",
       "    </tr>\n",
       "    <tr>\n",
       "      <th>2</th>\n",
       "      <td>Geetika</td>\n",
       "      <td>3045</td>\n",
       "      <td>Science</td>\n",
       "      <td>3871</td>\n",
       "      <td>5</td>\n",
       "    </tr>\n",
       "  </tbody>\n",
       "</table>\n",
       "</div>"
      ],
      "text/plain": [
       "      Name  RollNo  Subject  Fees  Extra_fees\n",
       "0     Diya    3039    Maths  1200          29\n",
       "1    Navya    3147  English   496          75\n",
       "2  Geetika    3045  Science  3871           5"
      ]
     },
     "execution_count": 67,
     "metadata": {},
     "output_type": "execute_result"
    }
   ],
   "source": [
    "df"
   ]
  },
  {
   "cell_type": "code",
   "execution_count": 69,
   "id": "aadd25c2",
   "metadata": {},
   "outputs": [
    {
     "data": {
      "text/plain": [
       "(3, 5)"
      ]
     },
     "execution_count": 69,
     "metadata": {},
     "output_type": "execute_result"
    }
   ],
   "source": [
    "df.shape"
   ]
  },
  {
   "cell_type": "code",
   "execution_count": 70,
   "id": "dd0d40cc",
   "metadata": {},
   "outputs": [
    {
     "data": {
      "text/plain": [
       "RangeIndex(start=0, stop=3, step=1)"
      ]
     },
     "execution_count": 70,
     "metadata": {},
     "output_type": "execute_result"
    }
   ],
   "source": [
    "df.index"
   ]
  },
  {
   "cell_type": "code",
   "execution_count": 74,
   "id": "4892e12c",
   "metadata": {},
   "outputs": [],
   "source": [
    "df = df.set_index(\"Name\")"
   ]
  },
  {
   "cell_type": "code",
   "execution_count": 73,
   "id": "173b398e",
   "metadata": {},
   "outputs": [
    {
     "data": {
      "text/plain": [
       "(3, 5)"
      ]
     },
     "execution_count": 73,
     "metadata": {},
     "output_type": "execute_result"
    }
   ],
   "source": [
    "df.shape"
   ]
  },
  {
   "cell_type": "code",
   "execution_count": 75,
   "id": "4d60c088",
   "metadata": {},
   "outputs": [
    {
     "data": {
      "text/html": [
       "<div>\n",
       "<style scoped>\n",
       "    .dataframe tbody tr th:only-of-type {\n",
       "        vertical-align: middle;\n",
       "    }\n",
       "\n",
       "    .dataframe tbody tr th {\n",
       "        vertical-align: top;\n",
       "    }\n",
       "\n",
       "    .dataframe thead th {\n",
       "        text-align: right;\n",
       "    }\n",
       "</style>\n",
       "<table border=\"1\" class=\"dataframe\">\n",
       "  <thead>\n",
       "    <tr style=\"text-align: right;\">\n",
       "      <th></th>\n",
       "      <th>RollNo</th>\n",
       "      <th>Subject</th>\n",
       "      <th>Fees</th>\n",
       "      <th>Extra_fees</th>\n",
       "    </tr>\n",
       "    <tr>\n",
       "      <th>Name</th>\n",
       "      <th></th>\n",
       "      <th></th>\n",
       "      <th></th>\n",
       "      <th></th>\n",
       "    </tr>\n",
       "  </thead>\n",
       "  <tbody>\n",
       "    <tr>\n",
       "      <th>Diya</th>\n",
       "      <td>3039</td>\n",
       "      <td>Maths</td>\n",
       "      <td>1200</td>\n",
       "      <td>29</td>\n",
       "    </tr>\n",
       "    <tr>\n",
       "      <th>Navya</th>\n",
       "      <td>3147</td>\n",
       "      <td>English</td>\n",
       "      <td>496</td>\n",
       "      <td>75</td>\n",
       "    </tr>\n",
       "    <tr>\n",
       "      <th>Geetika</th>\n",
       "      <td>3045</td>\n",
       "      <td>Science</td>\n",
       "      <td>3871</td>\n",
       "      <td>5</td>\n",
       "    </tr>\n",
       "  </tbody>\n",
       "</table>\n",
       "</div>"
      ],
      "text/plain": [
       "         RollNo  Subject  Fees  Extra_fees\n",
       "Name                                      \n",
       "Diya       3039    Maths  1200          29\n",
       "Navya      3147  English   496          75\n",
       "Geetika    3045  Science  3871           5"
      ]
     },
     "execution_count": 75,
     "metadata": {},
     "output_type": "execute_result"
    }
   ],
   "source": [
    "df"
   ]
  },
  {
   "cell_type": "code",
   "execution_count": 78,
   "id": "614f4ad8",
   "metadata": {},
   "outputs": [],
   "source": [
    "df = df.reset_index()"
   ]
  },
  {
   "cell_type": "code",
   "execution_count": 79,
   "id": "0c854c5f",
   "metadata": {},
   "outputs": [
    {
     "data": {
      "text/html": [
       "<div>\n",
       "<style scoped>\n",
       "    .dataframe tbody tr th:only-of-type {\n",
       "        vertical-align: middle;\n",
       "    }\n",
       "\n",
       "    .dataframe tbody tr th {\n",
       "        vertical-align: top;\n",
       "    }\n",
       "\n",
       "    .dataframe thead th {\n",
       "        text-align: right;\n",
       "    }\n",
       "</style>\n",
       "<table border=\"1\" class=\"dataframe\">\n",
       "  <thead>\n",
       "    <tr style=\"text-align: right;\">\n",
       "      <th></th>\n",
       "      <th>Name</th>\n",
       "      <th>RollNo</th>\n",
       "      <th>Subject</th>\n",
       "      <th>Fees</th>\n",
       "      <th>Extra_fees</th>\n",
       "    </tr>\n",
       "  </thead>\n",
       "  <tbody>\n",
       "    <tr>\n",
       "      <th>0</th>\n",
       "      <td>Diya</td>\n",
       "      <td>3039</td>\n",
       "      <td>Maths</td>\n",
       "      <td>1200</td>\n",
       "      <td>29</td>\n",
       "    </tr>\n",
       "    <tr>\n",
       "      <th>1</th>\n",
       "      <td>Navya</td>\n",
       "      <td>3147</td>\n",
       "      <td>English</td>\n",
       "      <td>496</td>\n",
       "      <td>75</td>\n",
       "    </tr>\n",
       "    <tr>\n",
       "      <th>2</th>\n",
       "      <td>Geetika</td>\n",
       "      <td>3045</td>\n",
       "      <td>Science</td>\n",
       "      <td>3871</td>\n",
       "      <td>5</td>\n",
       "    </tr>\n",
       "  </tbody>\n",
       "</table>\n",
       "</div>"
      ],
      "text/plain": [
       "      Name  RollNo  Subject  Fees  Extra_fees\n",
       "0     Diya    3039    Maths  1200          29\n",
       "1    Navya    3147  English   496          75\n",
       "2  Geetika    3045  Science  3871           5"
      ]
     },
     "execution_count": 79,
     "metadata": {},
     "output_type": "execute_result"
    }
   ],
   "source": [
    "df"
   ]
  },
  {
   "cell_type": "code",
   "execution_count": 80,
   "id": "b2d88904",
   "metadata": {},
   "outputs": [],
   "source": [
    "df = df.set_index(\"Name\")"
   ]
  },
  {
   "cell_type": "code",
   "execution_count": 81,
   "id": "143bf252",
   "metadata": {},
   "outputs": [
    {
     "data": {
      "text/html": [
       "<div>\n",
       "<style scoped>\n",
       "    .dataframe tbody tr th:only-of-type {\n",
       "        vertical-align: middle;\n",
       "    }\n",
       "\n",
       "    .dataframe tbody tr th {\n",
       "        vertical-align: top;\n",
       "    }\n",
       "\n",
       "    .dataframe thead th {\n",
       "        text-align: right;\n",
       "    }\n",
       "</style>\n",
       "<table border=\"1\" class=\"dataframe\">\n",
       "  <thead>\n",
       "    <tr style=\"text-align: right;\">\n",
       "      <th></th>\n",
       "      <th>RollNo</th>\n",
       "      <th>Subject</th>\n",
       "      <th>Fees</th>\n",
       "      <th>Extra_fees</th>\n",
       "    </tr>\n",
       "    <tr>\n",
       "      <th>Name</th>\n",
       "      <th></th>\n",
       "      <th></th>\n",
       "      <th></th>\n",
       "      <th></th>\n",
       "    </tr>\n",
       "  </thead>\n",
       "  <tbody>\n",
       "    <tr>\n",
       "      <th>Diya</th>\n",
       "      <td>3039</td>\n",
       "      <td>Maths</td>\n",
       "      <td>1200</td>\n",
       "      <td>29</td>\n",
       "    </tr>\n",
       "    <tr>\n",
       "      <th>Navya</th>\n",
       "      <td>3147</td>\n",
       "      <td>English</td>\n",
       "      <td>496</td>\n",
       "      <td>75</td>\n",
       "    </tr>\n",
       "    <tr>\n",
       "      <th>Geetika</th>\n",
       "      <td>3045</td>\n",
       "      <td>Science</td>\n",
       "      <td>3871</td>\n",
       "      <td>5</td>\n",
       "    </tr>\n",
       "  </tbody>\n",
       "</table>\n",
       "</div>"
      ],
      "text/plain": [
       "         RollNo  Subject  Fees  Extra_fees\n",
       "Name                                      \n",
       "Diya       3039    Maths  1200          29\n",
       "Navya      3147  English   496          75\n",
       "Geetika    3045  Science  3871           5"
      ]
     },
     "execution_count": 81,
     "metadata": {},
     "output_type": "execute_result"
    }
   ],
   "source": [
    "df"
   ]
  },
  {
   "cell_type": "code",
   "execution_count": 82,
   "id": "a7e10dc8",
   "metadata": {},
   "outputs": [
    {
     "data": {
      "text/plain": [
       "RollNo         3039\n",
       "Subject       Maths\n",
       "Fees           1200\n",
       "Extra_fees       29\n",
       "Name: Diya, dtype: object"
      ]
     },
     "execution_count": 82,
     "metadata": {},
     "output_type": "execute_result"
    }
   ],
   "source": [
    "df.iloc[0]  #integer based location"
   ]
  },
  {
   "cell_type": "code",
   "execution_count": 83,
   "id": "7ee85a3f",
   "metadata": {},
   "outputs": [
    {
     "data": {
      "text/plain": [
       "RollNo           3147\n",
       "Subject       English\n",
       "Fees              496\n",
       "Extra_fees         75\n",
       "Name: Navya, dtype: object"
      ]
     },
     "execution_count": 83,
     "metadata": {},
     "output_type": "execute_result"
    }
   ],
   "source": [
    "df.loc['Navya']"
   ]
  },
  {
   "cell_type": "code",
   "execution_count": 84,
   "id": "5103e0f2",
   "metadata": {},
   "outputs": [
    {
     "data": {
      "text/html": [
       "<div>\n",
       "<style scoped>\n",
       "    .dataframe tbody tr th:only-of-type {\n",
       "        vertical-align: middle;\n",
       "    }\n",
       "\n",
       "    .dataframe tbody tr th {\n",
       "        vertical-align: top;\n",
       "    }\n",
       "\n",
       "    .dataframe thead th {\n",
       "        text-align: right;\n",
       "    }\n",
       "</style>\n",
       "<table border=\"1\" class=\"dataframe\">\n",
       "  <thead>\n",
       "    <tr style=\"text-align: right;\">\n",
       "      <th></th>\n",
       "      <th>RollNo</th>\n",
       "      <th>Subject</th>\n",
       "      <th>Fees</th>\n",
       "      <th>Extra_fees</th>\n",
       "    </tr>\n",
       "    <tr>\n",
       "      <th>Name</th>\n",
       "      <th></th>\n",
       "      <th></th>\n",
       "      <th></th>\n",
       "      <th></th>\n",
       "    </tr>\n",
       "  </thead>\n",
       "  <tbody>\n",
       "    <tr>\n",
       "      <th>Diya</th>\n",
       "      <td>3039</td>\n",
       "      <td>Maths</td>\n",
       "      <td>1200</td>\n",
       "      <td>29</td>\n",
       "    </tr>\n",
       "    <tr>\n",
       "      <th>Navya</th>\n",
       "      <td>3147</td>\n",
       "      <td>English</td>\n",
       "      <td>496</td>\n",
       "      <td>75</td>\n",
       "    </tr>\n",
       "  </tbody>\n",
       "</table>\n",
       "</div>"
      ],
      "text/plain": [
       "       RollNo  Subject  Fees  Extra_fees\n",
       "Name                                    \n",
       "Diya     3039    Maths  1200          29\n",
       "Navya    3147  English   496          75"
      ]
     },
     "execution_count": 84,
     "metadata": {},
     "output_type": "execute_result"
    }
   ],
   "source": [
    "df.iloc[0:2]"
   ]
  },
  {
   "cell_type": "code",
   "execution_count": 85,
   "id": "af0f6925",
   "metadata": {},
   "outputs": [
    {
     "data": {
      "text/html": [
       "<div>\n",
       "<style scoped>\n",
       "    .dataframe tbody tr th:only-of-type {\n",
       "        vertical-align: middle;\n",
       "    }\n",
       "\n",
       "    .dataframe tbody tr th {\n",
       "        vertical-align: top;\n",
       "    }\n",
       "\n",
       "    .dataframe thead th {\n",
       "        text-align: right;\n",
       "    }\n",
       "</style>\n",
       "<table border=\"1\" class=\"dataframe\">\n",
       "  <thead>\n",
       "    <tr style=\"text-align: right;\">\n",
       "      <th></th>\n",
       "      <th>RollNo</th>\n",
       "      <th>Subject</th>\n",
       "      <th>Fees</th>\n",
       "      <th>Extra_fees</th>\n",
       "    </tr>\n",
       "    <tr>\n",
       "      <th>Name</th>\n",
       "      <th></th>\n",
       "      <th></th>\n",
       "      <th></th>\n",
       "      <th></th>\n",
       "    </tr>\n",
       "  </thead>\n",
       "  <tbody>\n",
       "    <tr>\n",
       "      <th>Diya</th>\n",
       "      <td>3039</td>\n",
       "      <td>Maths</td>\n",
       "      <td>1200</td>\n",
       "      <td>29</td>\n",
       "    </tr>\n",
       "    <tr>\n",
       "      <th>Navya</th>\n",
       "      <td>3147</td>\n",
       "      <td>English</td>\n",
       "      <td>496</td>\n",
       "      <td>75</td>\n",
       "    </tr>\n",
       "  </tbody>\n",
       "</table>\n",
       "</div>"
      ],
      "text/plain": [
       "       RollNo  Subject  Fees  Extra_fees\n",
       "Name                                    \n",
       "Diya     3039    Maths  1200          29\n",
       "Navya    3147  English   496          75"
      ]
     },
     "execution_count": 85,
     "metadata": {},
     "output_type": "execute_result"
    }
   ],
   "source": [
    "df.loc[['Diya', 'Navya']]"
   ]
  },
  {
   "cell_type": "code",
   "execution_count": 86,
   "id": "3cd21388",
   "metadata": {},
   "outputs": [
    {
     "data": {
      "text/html": [
       "<div>\n",
       "<style scoped>\n",
       "    .dataframe tbody tr th:only-of-type {\n",
       "        vertical-align: middle;\n",
       "    }\n",
       "\n",
       "    .dataframe tbody tr th {\n",
       "        vertical-align: top;\n",
       "    }\n",
       "\n",
       "    .dataframe thead th {\n",
       "        text-align: right;\n",
       "    }\n",
       "</style>\n",
       "<table border=\"1\" class=\"dataframe\">\n",
       "  <thead>\n",
       "    <tr style=\"text-align: right;\">\n",
       "      <th></th>\n",
       "      <th>RollNo</th>\n",
       "      <th>Subject</th>\n",
       "      <th>Fees</th>\n",
       "      <th>Extra_fees</th>\n",
       "    </tr>\n",
       "    <tr>\n",
       "      <th>Name</th>\n",
       "      <th></th>\n",
       "      <th></th>\n",
       "      <th></th>\n",
       "      <th></th>\n",
       "    </tr>\n",
       "  </thead>\n",
       "  <tbody>\n",
       "    <tr>\n",
       "      <th>Diya</th>\n",
       "      <td>3039</td>\n",
       "      <td>Maths</td>\n",
       "      <td>1200</td>\n",
       "      <td>29</td>\n",
       "    </tr>\n",
       "    <tr>\n",
       "      <th>Navya</th>\n",
       "      <td>3147</td>\n",
       "      <td>English</td>\n",
       "      <td>496</td>\n",
       "      <td>75</td>\n",
       "    </tr>\n",
       "  </tbody>\n",
       "</table>\n",
       "</div>"
      ],
      "text/plain": [
       "       RollNo  Subject  Fees  Extra_fees\n",
       "Name                                    \n",
       "Diya     3039    Maths  1200          29\n",
       "Navya    3147  English   496          75"
      ]
     },
     "execution_count": 86,
     "metadata": {},
     "output_type": "execute_result"
    }
   ],
   "source": [
    "df.drop('Geetika', axis=0)"
   ]
  },
  {
   "cell_type": "code",
   "execution_count": 87,
   "id": "530afb2c",
   "metadata": {},
   "outputs": [
    {
     "data": {
      "text/html": [
       "<div>\n",
       "<style scoped>\n",
       "    .dataframe tbody tr th:only-of-type {\n",
       "        vertical-align: middle;\n",
       "    }\n",
       "\n",
       "    .dataframe tbody tr th {\n",
       "        vertical-align: top;\n",
       "    }\n",
       "\n",
       "    .dataframe thead th {\n",
       "        text-align: right;\n",
       "    }\n",
       "</style>\n",
       "<table border=\"1\" class=\"dataframe\">\n",
       "  <thead>\n",
       "    <tr style=\"text-align: right;\">\n",
       "      <th></th>\n",
       "      <th>RollNo</th>\n",
       "      <th>Subject</th>\n",
       "      <th>Fees</th>\n",
       "      <th>Extra_fees</th>\n",
       "    </tr>\n",
       "    <tr>\n",
       "      <th>Name</th>\n",
       "      <th></th>\n",
       "      <th></th>\n",
       "      <th></th>\n",
       "      <th></th>\n",
       "    </tr>\n",
       "  </thead>\n",
       "  <tbody>\n",
       "    <tr>\n",
       "      <th>Diya</th>\n",
       "      <td>3039</td>\n",
       "      <td>Maths</td>\n",
       "      <td>1200</td>\n",
       "      <td>29</td>\n",
       "    </tr>\n",
       "    <tr>\n",
       "      <th>Navya</th>\n",
       "      <td>3147</td>\n",
       "      <td>English</td>\n",
       "      <td>496</td>\n",
       "      <td>75</td>\n",
       "    </tr>\n",
       "    <tr>\n",
       "      <th>Geetika</th>\n",
       "      <td>3045</td>\n",
       "      <td>Science</td>\n",
       "      <td>3871</td>\n",
       "      <td>5</td>\n",
       "    </tr>\n",
       "  </tbody>\n",
       "</table>\n",
       "</div>"
      ],
      "text/plain": [
       "         RollNo  Subject  Fees  Extra_fees\n",
       "Name                                      \n",
       "Diya       3039    Maths  1200          29\n",
       "Navya      3147  English   496          75\n",
       "Geetika    3045  Science  3871           5"
      ]
     },
     "execution_count": 87,
     "metadata": {},
     "output_type": "execute_result"
    }
   ],
   "source": [
    "df"
   ]
  },
  {
   "cell_type": "code",
   "execution_count": 88,
   "id": "5d839142",
   "metadata": {},
   "outputs": [],
   "source": [
    "one_row = df.iloc[0]"
   ]
  },
  {
   "cell_type": "code",
   "execution_count": 97,
   "id": "d51e75a1",
   "metadata": {},
   "outputs": [
    {
     "data": {
      "text/plain": [
       "RollNo         3039\n",
       "Subject       Maths\n",
       "Fees           1200\n",
       "Extra_fees       29\n",
       "Name: Diya, dtype: object"
      ]
     },
     "execution_count": 97,
     "metadata": {},
     "output_type": "execute_result"
    }
   ],
   "source": [
    "one_row"
   ]
  },
  {
   "cell_type": "code",
   "execution_count": 98,
   "id": "1ce58063",
   "metadata": {},
   "outputs": [
    {
     "data": {
      "text/plain": [
       "RollNo         3039\n",
       "Subject       Maths\n",
       "Fees           1200\n",
       "Extra_fees       29\n",
       "Name: Diya, dtype: object"
      ]
     },
     "execution_count": 98,
     "metadata": {},
     "output_type": "execute_result"
    }
   ],
   "source": [
    "df"
   ]
  },
  {
   "cell_type": "code",
   "execution_count": null,
   "id": "091ddca0",
   "metadata": {},
   "outputs": [],
   "source": []
  }
 ],
 "metadata": {
  "kernelspec": {
   "display_name": "Python 3 (ipykernel)",
   "language": "python",
   "name": "python3"
  },
  "language_info": {
   "codemirror_mode": {
    "name": "ipython",
    "version": 3
   },
   "file_extension": ".py",
   "mimetype": "text/x-python",
   "name": "python",
   "nbconvert_exporter": "python",
   "pygments_lexer": "ipython3",
   "version": "3.11.4"
  }
 },
 "nbformat": 4,
 "nbformat_minor": 5
}
